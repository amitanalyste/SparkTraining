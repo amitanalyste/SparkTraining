{
 "cells": [
  {
   "cell_type": "code",
   "execution_count": 1,
   "metadata": {},
   "outputs": [
    {
     "data": {
      "text/plain": [
       "\"\\nlines = ['The quick Brown Fox', 'Jumped Over', 'Those Lazy Dogs']\\nlines.map(lambnda x: x.upper() -> ['THE QUICK BROWN FOX',\\n                                   'JUMPED OVER',\\n                                   'THOSE LAZY DOGS']\\n                                   \\nlines.flatmap(lambnda x: x.splt().upper() -> ['THE', 'QUICK', 'BROWN',\\n                                       'FOX','JUMPED', 'OVER',\\n                                       'THOSE', 'LAZY', 'DOGS']\\n\""
      ]
     },
     "execution_count": 1,
     "metadata": {},
     "output_type": "execute_result"
    }
   ],
   "source": [
    "#Map vs Flat Map\n",
    "#Map retains original structure, but flatMap blows out Rdds.\n",
    "\n",
    "import findspark\n",
    "findspark.init('/home/ubuntu/spark-2.2.0-bin-hadoop2.7')\n",
    "\n",
    "from pyspark import SparkConf, SparkContext\n",
    "conf = SparkConf().setMaster('local').setAppName('Map')\n",
    "sc = SparkContext(conf = conf)\n",
    "\n",
    "from pyspark.sql import SparkSession\n",
    "spark = SparkSession.builder.appName('countBook').getOrCreate()\n",
    "\n",
    "\n",
    "import seaborn as sns\n",
    "import matplotlib.pyplot as plt\n",
    "import pandas as pd\n",
    "import numpy as np\n",
    "\n",
    "'''\n",
    "lines = ['The quick Brown Fox', 'Jumped Over', 'Those Lazy Dogs']\n",
    "lines.map(lambnda x: x.upper() -> ['THE QUICK BROWN FOX',\n",
    "                                   'JUMPED OVER',\n",
    "                                   'THOSE LAZY DOGS']\n",
    "                                   \n",
    "lines.flatmap(lambnda x: x.splt().upper() -> ['THE', 'QUICK', 'BROWN',\n",
    "                                       'FOX','JUMPED', 'OVER',\n",
    "                                       'THOSE', 'LAZY', 'DOGS']\n",
    "'''"
   ]
  },
  {
   "cell_type": "markdown",
   "metadata": {},
   "source": [
    "# Import Text and Count"
   ]
  },
  {
   "cell_type": "code",
   "execution_count": 47,
   "metadata": {},
   "outputs": [],
   "source": [
    "import re\n",
    "def normalizeWords(text):\n",
    "    #Break up this text by words (W)\n",
    "    return re.compile(r'\\W+', re.UNICODE).split(text.lower())"
   ]
  },
  {
   "cell_type": "code",
   "execution_count": 63,
   "metadata": {},
   "outputs": [
    {
     "name": "stdout",
     "output_type": "stream",
     "text": [
      "root\n",
      " |-- Self-Employment: Building an Internet Business of One: string (nullable = true)\n",
      "\n",
      "There are  48448 words\n",
      "['employment', 'building', 'an', 'internet', 'business', 'of', 'one', 'achieving', 'financial', 'and', 'personal', 'freedom', 'through', 'a', 'lifestyle', 'technology', 'business', 'by', 'frank', 'kane', '', '', '', 'copyright']\n"
     ]
    }
   ],
   "source": [
    "folder = '/home/ubuntu/data/raw'\n",
    "file = '/tamingBD-Book.txt'\n",
    "\n",
    "#Import rdd as df\n",
    "rdd = spark.read.csv(folder+file, header=True, inferSchema=True)\n",
    "rdd.printSchema()\n",
    "rdd.collect()[1:10]\n",
    "\n",
    "#import rdd \n",
    "rdd = sc.textFile(folder+file)\n",
    "\n",
    "#split into words\n",
    "words = rdd.flatMap(lambda x: normalizeWords(x))\n",
    "#Or you could type = rdd.flatMap(normalizeWords)\n",
    "\n",
    "print('There are ',len(words.collect()), 'words')\n",
    "print(words.collect()[1:25])\n",
    "\n",
    "#Dont use coutByValue....\n",
    "#wordCounts = words.countByValue()\n",
    "wordCounts = words.map(lambda x: (x,1)).reduceByKey(lambda x, y: x + y)\n",
    "wordCountsSorted = wordCounts.map(lambda x, y: (y,x)).sortByKey()\n",
    "#results = wordCountsSorted.select()"
   ]
  },
  {
   "cell_type": "markdown",
   "metadata": {},
   "source": [
    "# Count Text using countByValue"
   ]
  },
  {
   "cell_type": "code",
   "execution_count": 44,
   "metadata": {},
   "outputs": [
    {
     "data": {
      "text/plain": [
       "[[b'working', 58],\n",
       " [b'important', 58],\n",
       " [b'think', 58],\n",
       " [b'use', 58],\n",
       " [b'then', 59],\n",
       " [b'enough', 59],\n",
       " [b'once', 59],\n",
       " [b'software', 60],\n",
       " [b'idea', 60],\n",
       " [b'over', 62],\n",
       " [b'any', 62],\n",
       " [b'someone', 62],\n",
       " [b'google', 63],\n",
       " [b'plan', 64],\n",
       " [b'still', 65],\n",
       " [b'sure', 65],\n",
       " [b'market', 66],\n",
       " [b'well', 66],\n",
       " [b'products', 67],\n",
       " [b'those', 68],\n",
       " [b'should', 69],\n",
       " [b'ad', 70],\n",
       " [b'might', 70],\n",
       " [b'most', 70],\n",
       " [b'before', 70],\n",
       " [b'many', 71],\n",
       " [b'good', 72],\n",
       " [b'day', 73],\n",
       " [b'employment', 75],\n",
       " [b'ads', 75],\n",
       " [b'no', 76],\n",
       " [b'probably', 76],\n",
       " [b'other', 78],\n",
       " [b'like', 78],\n",
       " [b'yourself', 78],\n",
       " [b'into', 79],\n",
       " [b'only', 79],\n",
       " [b'sales', 80],\n",
       " [b'find', 81],\n",
       " [b'these', 82],\n",
       " [b'was', 85],\n",
       " [b'money', 86],\n",
       " [b'who', 88],\n",
       " [b'job', 90],\n",
       " [b'much', 90],\n",
       " [b'also', 91],\n",
       " [b'than', 92],\n",
       " [b've', 95],\n",
       " [b'one', 100],\n",
       " [b'when', 102],\n",
       " [b'even', 104],\n",
       " [b'may', 107],\n",
       " [b'make', 108],\n",
       " [b'website', 109],\n",
       " [b'self', 111],\n",
       " [b'll', 114],\n",
       " [b'some', 121],\n",
       " [b'company', 122],\n",
       " [b'their', 122],\n",
       " [b'want', 122],\n",
       " [b'by', 122],\n",
       " [b'customers', 123],\n",
       " [b'get', 123],\n",
       " [b'don', 133],\n",
       " [b'all', 137],\n",
       " [b'own', 140],\n",
       " [b'just', 142],\n",
       " [b'so', 143],\n",
       " [b'work', 144],\n",
       " [b'people', 145],\n",
       " [b'new', 153],\n",
       " [b'out', 161],\n",
       " [b'there', 162],\n",
       " [b'how', 163],\n",
       " [b'from', 166],\n",
       " [b'them', 166],\n",
       " [b'need', 174],\n",
       " [b'up', 177],\n",
       " [b'an', 178],\n",
       " [b'product', 182],\n",
       " [b'more', 200],\n",
       " [b'about', 202],\n",
       " [b'not', 203],\n",
       " [b'do', 207],\n",
       " [b're', 214],\n",
       " [b'my', 215],\n",
       " [b'at', 220],\n",
       " [b'what', 229],\n",
       " [b'will', 231],\n",
       " [b'they', 234],\n",
       " [b'but', 242],\n",
       " [b'time', 255],\n",
       " [b'or', 278],\n",
       " [b'this', 280],\n",
       " [b't', 301],\n",
       " [b'with', 315],\n",
       " [b'have', 321],\n",
       " [b'as', 343],\n",
       " [b'be', 369],\n",
       " [b'can', 376],\n",
       " [b'business', 383],\n",
       " [b'i', 387],\n",
       " [b's', 391],\n",
       " [b'if', 411],\n",
       " [b'are', 424],\n",
       " [b'on', 428],\n",
       " [b'for', 537],\n",
       " [b'is', 560],\n",
       " [b'in', 616],\n",
       " [b'it', 649],\n",
       " [b'that', 747],\n",
       " [b'and', 934],\n",
       " [b'of', 970],\n",
       " [b'a', 1191],\n",
       " [b'the', 1292],\n",
       " [b'your', 1420]]"
      ]
     },
     "execution_count": 44,
     "metadata": {},
     "output_type": "execute_result"
    }
   ],
   "source": [
    "wordCounts = words.countByValue()\n",
    "#Clean Words\n",
    "cleanWords = []\n",
    "\n",
    "#convert from unicode to ascii\n",
    "for word, count in wordCounts.items():\n",
    "    cleanWord = word.encode('ascii', 'ignore')\n",
    "    if cleanWord:\n",
    "        cleanWords.append([cleanWord, count])\n",
    "        #print(cleanWord, count)\n",
    "        \n",
    "(cleanWords[1:10])\n",
    "cleanWords.sort(key = lambda row: row[1])\n",
    "cleanWords[4000:-2]"
   ]
  },
  {
   "cell_type": "code",
   "execution_count": 45,
   "metadata": {},
   "outputs": [
    {
     "data": {
      "image/png": "[encoded data removed]",
      "text/plain": [
       "<matplotlib.figure.Figure at 0x7f91a4816ac8>"
      ]
     },
     "metadata": {},
     "output_type": "display_data"
    }
   ],
   "source": [
    "cleanWords = [cleanWords[1000], cleanWords[2000], cleanWords[3000],cleanWords[3500],cleanWords[3750],cleanWords[4000]]\n",
    "coolest_df = pd.DataFrame(cleanWords,columns=['word','count'])\n",
    "\n",
    "sns.barplot(x=coolest_df['word'], y=coolest_df['count'], palette='hls')\n",
    "plt.title('Words in Book')\n",
    "plt.xlabel('Word')\n",
    "plt.ylabel('Count')\n",
    "plt.subplots_adjust(bottom=0.15)\n",
    "plt.show()\n",
    "plt.clf()"
   ]
  },
  {
   "cell_type": "code",
   "execution_count": 17,
   "metadata": {},
   "outputs": [
    {
     "name": "stdout",
     "output_type": "stream",
     "text": [
      "<pandas.core.indexing._LocIndexer object at 0x7f411a346240>\n"
     ]
    }
   ],
   "source": []
  },
  {
   "cell_type": "code",
   "execution_count": null,
   "metadata": {},
   "outputs": [],
   "source": []
  }
 ],
 "metadata": {
  "kernelspec": {
   "display_name": "Python 3",
   "language": "python",
   "name": "python3"
  },
  "language_info": {
   "codemirror_mode": {
    "name": "ipython",
    "version": 3
   },
   "file_extension": ".py",
   "mimetype": "text/x-python",
   "name": "python",
   "nbconvert_exporter": "python",
   "pygments_lexer": "ipython3",
   "version": "3.5.2"
  }
 },
 "nbformat": 4,
 "nbformat_minor": 2
}
