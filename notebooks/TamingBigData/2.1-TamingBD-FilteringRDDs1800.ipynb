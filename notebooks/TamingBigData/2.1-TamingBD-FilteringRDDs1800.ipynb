{
 "cells": [
  {
   "cell_type": "code",
   "execution_count": 1,
   "metadata": {},
   "outputs": [],
   "source": [
    "#Want to find the Min Temperature per day\n",
    "\n",
    "import findspark\n",
    "findspark.init('/home/ubuntu/spark-2.2.0-bin-hadoop2.7')\n",
    "\n",
    "from pyspark import SparkContext, SparkConf\n",
    "conf = SparkConf().setMaster('local').setAppName('weather1800')\n",
    "sc = SparkContext(conf = conf)\n",
    "\n",
    "from pyspark.sql import SparkSession\n",
    "spark = SparkSession.builder.appName('weather1800').getOrCreate()"
   ]
  },
  {
   "cell_type": "markdown",
   "metadata": {},
   "source": [
    "# Import Data"
   ]
  },
  {
   "cell_type": "code",
   "execution_count": 2,
   "metadata": {},
   "outputs": [],
   "source": [
    "folder = '/home/ubuntu/data/raw'\n",
    "file = '/taming-BD-1800.csv'\n",
    "\n",
    "#lines = spark.read.csv(folder+file, header=True, inferSchema=True)\n",
    "#lines.printSchema()\n",
    "\n",
    "lines_rdd = sc.textFile(folder+file)"
   ]
  },
  {
   "cell_type": "code",
   "execution_count": 3,
   "metadata": {},
   "outputs": [],
   "source": [
    "def parseLine(line):\n",
    "    fields = line.split(',')\n",
    "    stationID = fields[0]\n",
    "    entryType = fields[2]\n",
    "    temperature = float(fields[3])*0.1*(9.0 / 5.0) + 32.0\n",
    "    return(stationID, entryType, temperature)"
   ]
  },
  {
   "cell_type": "code",
   "execution_count": 4,
   "metadata": {},
   "outputs": [
    {
     "data": {
      "text/plain": [
       "[('ITE00100554', 'TMAX', 18.5),\n",
       " ('ITE00100554', 'TMIN', 5.359999999999999),\n",
       " ('GM000010962', 'PRCP', 32.0),\n",
       " ('EZE00100082', 'TMAX', 16.52),\n",
       " ('EZE00100082', 'TMIN', 7.699999999999999),\n",
       " ('ITE00100554', 'TMAX', 21.2),\n",
       " ('ITE00100554', 'TMIN', 9.5),\n",
       " ('GM000010962', 'PRCP', 32.0),\n",
       " ('EZE00100082', 'TMAX', 24.08),\n",
       " ('EZE00100082', 'TMIN', 8.599999999999998)]"
      ]
     },
     "execution_count": 4,
     "metadata": {},
     "output_type": "execute_result"
    }
   ],
   "source": [
    "parsedLines = lines_rdd.map(parseLine)\n",
    "parsedLines.collect()[0:10]"
   ]
  },
  {
   "cell_type": "code",
   "execution_count": 5,
   "metadata": {},
   "outputs": [
    {
     "ename": "NameError",
     "evalue": "name 'prcp' is not defined",
     "output_type": "error",
     "traceback": [
      "\u001b[0;31m---------------------------------------------------------------------------\u001b[0m",
      "\u001b[0;31mNameError\u001b[0m                                 Traceback (most recent call last)",
      "\u001b[0;32m<ipython-input-5-86ea0d2cd4e3>\u001b[0m in \u001b[0;36m<module>\u001b[0;34m()\u001b[0m\n\u001b[1;32m      1\u001b[0m \u001b[0mtMin_rdd\u001b[0m \u001b[0;34m=\u001b[0m \u001b[0mparsedLines\u001b[0m\u001b[0;34m.\u001b[0m\u001b[0mfilter\u001b[0m\u001b[0;34m(\u001b[0m\u001b[0;32mlambda\u001b[0m \u001b[0mx\u001b[0m\u001b[0;34m:\u001b[0m \u001b[0;34m'TMIN'\u001b[0m \u001b[0;32min\u001b[0m \u001b[0mx\u001b[0m\u001b[0;34m[\u001b[0m\u001b[0;36m1\u001b[0m\u001b[0;34m]\u001b[0m\u001b[0;34m)\u001b[0m\u001b[0;34m\u001b[0m\u001b[0m\n\u001b[1;32m      2\u001b[0m \u001b[0mprcp_rdd\u001b[0m \u001b[0;34m=\u001b[0m \u001b[0mparsedLines\u001b[0m\u001b[0;34m.\u001b[0m\u001b[0mfilter\u001b[0m\u001b[0;34m(\u001b[0m\u001b[0;32mlambda\u001b[0m \u001b[0mx\u001b[0m\u001b[0;34m:\u001b[0m \u001b[0;34m'PRCP'\u001b[0m \u001b[0;32min\u001b[0m \u001b[0mx\u001b[0m\u001b[0;34m[\u001b[0m\u001b[0;36m1\u001b[0m\u001b[0;34m]\u001b[0m\u001b[0;34m)\u001b[0m\u001b[0;34m\u001b[0m\u001b[0m\n\u001b[0;32m----> 3\u001b[0;31m \u001b[0mprcp\u001b[0m\u001b[0;34m\u001b[0m\u001b[0m\n\u001b[0m",
      "\u001b[0;31mNameError\u001b[0m: name 'prcp' is not defined"
     ]
    }
   ],
   "source": [
    "tMin_rdd = parsedLines.filter(lambda x: 'TMIN' in x[1])\n",
    "prcp_rdd = parsedLines.filter(lambda x: 'PRCP' in x[1])\n",
    "prcp"
   ]
  },
  {
   "cell_type": "code",
   "execution_count": null,
   "metadata": {},
   "outputs": [],
   "source": [
    "#After exploration, data is: \n",
    "    #temperature data per day in Italy and Czech Republic\n",
    "    #percipitionat per day in Paris"
   ]
  },
  {
   "cell_type": "markdown",
   "metadata": {},
   "source": [
    "# Plot Min Temp By City Per Day"
   ]
  },
  {
   "cell_type": "code",
   "execution_count": null,
   "metadata": {},
   "outputs": [],
   "source": [
    "#Print out temps of each city\n",
    "import pandas as pd\n",
    "\n",
    "#How many Station ids are there?\n",
    "weather_pd = pd.DataFrame(parsedLines.collect(),columns=['station','entryType','temperature'])\n",
    "weather_pd.head()\n",
    "stations = weather_pd.groupby('station').mean()\n",
    "#print(stations.head())\n",
    "\n",
    "tMin = parsedLines.filter(lambda x: 'TMIN' in x[1])\n",
    "\n",
    "Czech_tMin = tMin_rdd.filter(lambda x: 'EZE00100082' in x[0]).collect()\n",
    "Italy_tMin = tMin_rdd.filter(lambda x: 'ITE00100554' in x[0]).collect()\n",
    "Paris_tMin = tMin_rdd.filter(lambda x: 'GM000010962' in x[0]).collect()\n",
    "\n",
    "Czech_tMin_temp = []\n",
    "for row in Czech_tMin:\n",
    "    Czech_tMin_temp.append(row[2]) \n",
    "Italy_tMin_temp = []\n",
    "for row in Italy_tMin:\n",
    "    Italy_tMin_temp.append(row[2]) \n",
    "\n",
    "    \n",
    "import seaborn as sns\n",
    "import matplotlib.pyplot as plt\n",
    "import seaborn as sns; sns.set(color_codes=True)\n",
    "sns.set(style=\"white\", palette=\"muted\", color_codes=True)\n",
    "\n",
    "sns.tsplot(Czech_tMin_temp, color='c')\n",
    "sns.tsplot(Italy_tMin_temp, color='m')\n",
    "plt.legend()\n",
    "plt.title('Min Temp (F) by Day Year =1800')\n",
    "plt.show()"
   ]
  },
  {
   "cell_type": "markdown",
   "metadata": {},
   "source": [
    "# Find Min Temp Per Year"
   ]
  },
  {
   "cell_type": "code",
   "execution_count": null,
   "metadata": {},
   "outputs": [],
   "source": [
    "stationTemps = tMin_rdd.map(lambda x: [x[0], x[2]])\n",
    "stationTemps.collect()[1]\n",
    "\n",
    "#Now we have a key value pair.\n",
    "\n",
    "minTemps_rdd = stationTemps.reduceByKey(lambda x, y: min(x,y))\n",
    "\n",
    "results = minTemps_rdd.collect()\n",
    "for result in results:\n",
    "    print(result)"
   ]
  }
 ],
 "metadata": {
  "kernelspec": {
   "display_name": "Python 3",
   "language": "python",
   "name": "python3"
  },
  "language_info": {
   "codemirror_mode": {
    "name": "ipython",
    "version": 3
   },
   "file_extension": ".py",
   "mimetype": "text/x-python",
   "name": "python",
   "nbconvert_exporter": "python",
   "pygments_lexer": "ipython3",
   "version": "3.5.2"
  }
 },
 "nbformat": 4,
 "nbformat_minor": 2
}
