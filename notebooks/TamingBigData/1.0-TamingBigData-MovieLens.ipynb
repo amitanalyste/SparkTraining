{
 "cells": [
  {
   "cell_type": "code",
   "execution_count": 1,
   "metadata": {},
   "outputs": [],
   "source": [
    "import findspark\n",
    "findspark.init('/home/ubuntu/spark-2.2.0-bin-hadoop2.7')\n",
    "\n",
    "from pyspark.sql import SparkSession\n",
    "\n",
    "#SparkContext is fundamental starting point for creating RDD's\n",
    "#You can't create a context until you have a conf. Then tell it thins like:\n",
    "    #Run this on one machine or a cluster? How?\n",
    "from pyspark import SparkConf, SparkContext\n",
    "\n",
    "#Collections is for sorting and filing stuff we've done\n",
    "import collections"
   ]
  },
  {
   "cell_type": "code",
   "execution_count": 2,
   "metadata": {},
   "outputs": [],
   "source": [
    "#Create a new spark centext\n",
    "#Set master node as local machine (not on a cluster), and one core/thread\n",
    "conf = SparkConf().setMaster('local').setAppName(\"RatingsHistogram\")\n",
    "sc = SparkContext(conf = conf)"
   ]
  },
  {
   "cell_type": "markdown",
   "metadata": {},
   "source": [
    "# Extract Data"
   ]
  },
  {
   "cell_type": "code",
   "execution_count": 3,
   "metadata": {},
   "outputs": [
    {
     "name": "stdout",
     "output_type": "stream",
     "text": [
      "1 6110\n",
      "2 11370\n",
      "3 27145\n",
      "4 34174\n",
      "5 21201\n"
     ]
    }
   ],
   "source": [
    "#Import Data\n",
    "file = '/u.data'\n",
    "path = '/home/ubuntu/data/raw/ml-100k'\n",
    "lines = sc.textFile(name=path+file)\n",
    "#u.data = lines of strings:\n",
    "    #[0]  [1]    [2]   [3]\n",
    "    #User movie# score timestamp\n",
    "    #196  242    3     881250949\n",
    "    #186  302    3     891717742\n",
    "    #22   377    1     87887116 ...\n",
    "\n",
    "\n",
    "ratings = lines.map(lambda x: x.split()[2])\n",
    "#Import everything from lines RDD\n",
    "#Split string (line) and extract rating: [2]\n",
    "    # 3\n",
    "    # 3\n",
    "    # 1\n",
    "#Put into a new RDD called ratings\n",
    "#This Map function doesn't change the lines RDD\n",
    "\n",
    "\n",
    "\n",
    "result = ratings.countByValue()\n",
    "#Perform an action (three was counted twice, one was counted twice...)\n",
    "    # 3 -> -> (3, 2), (1, 2), (2,1)\n",
    "    # 3\n",
    "    # 1\n",
    "    # 2\n",
    "    # 1\n",
    "#Now, once the action has been performed, we have python object\n",
    "\n",
    "\n",
    "#Sort\n",
    "sortedResults = collections.OrderedDict(sorted(result.items()))\n",
    "\n",
    "for key, value in sortedResults.items():\n",
    "    print(\"%s %i\" % (key, value))"
   ]
  },
  {
   "cell_type": "markdown",
   "metadata": {},
   "source": [
    "# Plot"
   ]
  },
  {
   "cell_type": "code",
   "execution_count": 4,
   "metadata": {},
   "outputs": [
    {
     "data": {
      "image/png": "[encoded data removed]",
      "text/plain": [
       "<matplotlib.figure.Figure at 0x7f80a8778940>"
      ]
     },
     "metadata": {},
     "output_type": "display_data"
    }
   ],
   "source": [
    "#Plot\n",
    "from scipy import stats, integrate\n",
    "import numpy as np\n",
    "import matplotlib.pyplot as plt\n",
    "import seaborn as sns\n",
    "sns.set()\n",
    "\n",
    "rating = []\n",
    "count = []\n",
    "for key, value in sortedResults.items():\n",
    "    rating.append(key)\n",
    "    count.append(value)\n",
    "    \n",
    "#https://seaborn.pydata.org/tutorial/color_palettes.html\n",
    "sns.barplot(x=rating, y=count, palette='hls')\n",
    "plt.title('Movies by User Rating')\n",
    "plt.xlabel('Rating (1-5)')\n",
    "plt.ylabel('# of Films')\n",
    "plt.show()\n",
    "plt.clf()"
   ]
  },
  {
   "cell_type": "code",
   "execution_count": null,
   "metadata": {},
   "outputs": [],
   "source": []
  }
 ],
 "metadata": {
  "kernelspec": {
   "display_name": "Python 3",
   "language": "python",
   "name": "python3"
  },
  "language_info": {
   "codemirror_mode": {
    "name": "ipython",
    "version": 3
   },
   "file_extension": ".py",
   "mimetype": "text/x-python",
   "name": "python",
   "nbconvert_exporter": "python",
   "pygments_lexer": "ipython3",
   "version": "3.5.2"
  }
 },
 "nbformat": 4,
 "nbformat_minor": 2
}
