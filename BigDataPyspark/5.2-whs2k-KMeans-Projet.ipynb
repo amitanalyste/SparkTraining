{
 "cells": [
  {
   "cell_type": "code",
   "execution_count": 1,
   "metadata": {},
   "outputs": [],
   "source": [
    "#Figure out if there were 2 or 3 hackers \n",
    "#Hackers split their work evenly, so:\n",
    "    # #ofAttacks = \n",
    "    \n",
    "#1. Start Spark Session\n",
    "#2. IMport Data\n",
    "#3. Explore Data\n",
    "#4. Create 2 KMeans models (k=2,k=3)\n",
    "#"
   ]
  },
  {
   "cell_type": "code",
   "execution_count": 5,
   "metadata": {},
   "outputs": [],
   "source": [
    "import findspark\n",
    "findspark.init('/home/ubuntu/spark-2.2.0-bin-hadoop2.7')\n",
    "\n",
    "from pyspark.sql import SparkSession\n",
    "spark = SparkSession.builder.appName('kProj').getOrCreate()"
   ]
  },
  {
   "cell_type": "markdown",
   "metadata": {},
   "source": [
    "# Import DAta "
   ]
  },
  {
   "cell_type": "code",
   "execution_count": 6,
   "metadata": {},
   "outputs": [
    {
     "name": "stdout",
     "output_type": "stream",
     "text": [
      "root\n",
      " |-- Session_Connection_Time: double (nullable = true)\n",
      " |-- Bytes Transferred: double (nullable = true)\n",
      " |-- Kali_Trace_Used: integer (nullable = true)\n",
      " |-- Servers_Corrupted: double (nullable = true)\n",
      " |-- Pages_Corrupted: double (nullable = true)\n",
      " |-- Location: string (nullable = true)\n",
      " |-- WPM_Typing_Speed: double (nullable = true)\n",
      "\n"
     ]
    }
   ],
   "source": [
    "folder = '/home/ubuntu/data/raw'\n",
    "file = '/hack_data.csv'\n",
    "data = spark.read.csv(folder+file, header=True, inferSchema=True)\n",
    "data.printSchema()"
   ]
  },
  {
   "cell_type": "code",
   "execution_count": 7,
   "metadata": {},
   "outputs": [
    {
     "data": {
      "text/plain": [
       "['Session_Connection_Time',\n",
       " 'Bytes Transferred',\n",
       " 'Kali_Trace_Used',\n",
       " 'Servers_Corrupted',\n",
       " 'Pages_Corrupted',\n",
       " 'Location',\n",
       " 'WPM_Typing_Speed']"
      ]
     },
     "execution_count": 7,
     "metadata": {},
     "output_type": "execute_result"
    }
   ],
   "source": [
    "data.columns"
   ]
  },
  {
   "cell_type": "code",
   "execution_count": 8,
   "metadata": {},
   "outputs": [
    {
     "data": {
      "text/html": [
       "<div>\n",
       "<style>\n",
       "    .dataframe thead tr:only-child th {\n",
       "        text-align: right;\n",
       "    }\n",
       "\n",
       "    .dataframe thead th {\n",
       "        text-align: left;\n",
       "    }\n",
       "\n",
       "    .dataframe tbody tr th {\n",
       "        vertical-align: top;\n",
       "    }\n",
       "</style>\n",
       "<table border=\"1\" class=\"dataframe\">\n",
       "  <thead>\n",
       "    <tr style=\"text-align: right;\">\n",
       "      <th></th>\n",
       "      <th>Session_Connection_Time</th>\n",
       "      <th>Bytes Transferred</th>\n",
       "      <th>Kali_Trace_Used</th>\n",
       "      <th>Servers_Corrupted</th>\n",
       "      <th>Pages_Corrupted</th>\n",
       "      <th>Location</th>\n",
       "      <th>WPM_Typing_Speed</th>\n",
       "    </tr>\n",
       "  </thead>\n",
       "  <tbody>\n",
       "    <tr>\n",
       "      <th>Session_Connection_Time</th>\n",
       "      <td>1</td>\n",
       "      <td>0.713861</td>\n",
       "      <td>0.0346872</td>\n",
       "      <td>0.808394</td>\n",
       "      <td>0.844167</td>\n",
       "      <td>None</td>\n",
       "      <td>-0.866077</td>\n",
       "    </tr>\n",
       "    <tr>\n",
       "      <th>Bytes Transferred</th>\n",
       "      <td>0.713861</td>\n",
       "      <td>1</td>\n",
       "      <td>0.0724358</td>\n",
       "      <td>0.739822</td>\n",
       "      <td>0.784081</td>\n",
       "      <td>None</td>\n",
       "      <td>-0.793344</td>\n",
       "    </tr>\n",
       "    <tr>\n",
       "      <th>Kali_Trace_Used</th>\n",
       "      <td>0.0346872</td>\n",
       "      <td>0.0724358</td>\n",
       "      <td>1</td>\n",
       "      <td>0.0332419</td>\n",
       "      <td>0.0169312</td>\n",
       "      <td>None</td>\n",
       "      <td>-0.0265603</td>\n",
       "    </tr>\n",
       "    <tr>\n",
       "      <th>Servers_Corrupted</th>\n",
       "      <td>0.808394</td>\n",
       "      <td>0.739822</td>\n",
       "      <td>0.0332419</td>\n",
       "      <td>1</td>\n",
       "      <td>0.89721</td>\n",
       "      <td>None</td>\n",
       "      <td>-0.915629</td>\n",
       "    </tr>\n",
       "    <tr>\n",
       "      <th>Pages_Corrupted</th>\n",
       "      <td>0.844167</td>\n",
       "      <td>0.784081</td>\n",
       "      <td>0.0169312</td>\n",
       "      <td>0.89721</td>\n",
       "      <td>1</td>\n",
       "      <td>None</td>\n",
       "      <td>-0.968662</td>\n",
       "    </tr>\n",
       "  </tbody>\n",
       "</table>\n",
       "</div>"
      ],
      "text/plain": [
       "                        Session_Connection_Time Bytes Transferred  \\\n",
       "Session_Connection_Time                       1          0.713861   \n",
       "Bytes Transferred                      0.713861                 1   \n",
       "Kali_Trace_Used                       0.0346872         0.0724358   \n",
       "Servers_Corrupted                      0.808394          0.739822   \n",
       "Pages_Corrupted                        0.844167          0.784081   \n",
       "\n",
       "                        Kali_Trace_Used Servers_Corrupted Pages_Corrupted  \\\n",
       "Session_Connection_Time       0.0346872          0.808394        0.844167   \n",
       "Bytes Transferred             0.0724358          0.739822        0.784081   \n",
       "Kali_Trace_Used                       1         0.0332419       0.0169312   \n",
       "Servers_Corrupted             0.0332419                 1         0.89721   \n",
       "Pages_Corrupted               0.0169312           0.89721               1   \n",
       "\n",
       "                        Location WPM_Typing_Speed  \n",
       "Session_Connection_Time     None        -0.866077  \n",
       "Bytes Transferred           None        -0.793344  \n",
       "Kali_Trace_Used             None       -0.0265603  \n",
       "Servers_Corrupted           None        -0.915629  \n",
       "Pages_Corrupted             None        -0.968662  "
      ]
     },
     "execution_count": 8,
     "metadata": {},
     "output_type": "execute_result"
    }
   ],
   "source": [
    "import pandas as pd\n",
    "import numpy as np\n",
    "#Feature Correlations\n",
    "\n",
    "from pyspark.sql.functions import corr, covar_pop\n",
    "important_columns = ['Session_Connection_Time',\n",
    " 'Bytes Transferred',\n",
    " 'Kali_Trace_Used',\n",
    " 'Servers_Corrupted',\n",
    " 'Pages_Corrupted',\n",
    " 'Location',\n",
    " 'WPM_Typing_Speed']\n",
    "\n",
    "\n",
    "corr_df = pd.DataFrame(columns=important_columns, index=important_columns)\n",
    "for feature in important_columns:\n",
    "    for feature2 in important_columns:\n",
    "        #new_data.select(corr(feature,feature2)).show()\n",
    "        corr_df[feature2][feature] = data.select(corr(feature,feature2)).head()[0]\n",
    "corr_df.head()\n"
   ]
  },
  {
   "cell_type": "code",
   "execution_count": 13,
   "metadata": {},
   "outputs": [
    {
     "name": "stdout",
     "output_type": "stream",
     "text": [
      "+--------------------+\n",
      "|            Location|\n",
      "+--------------------+\n",
      "|            Slovenia|\n",
      "|British Virgin Is...|\n",
      "|             Tokelau|\n",
      "|             Bolivia|\n",
      "|                Iraq|\n",
      "+--------------------+\n",
      "only showing top 5 rows\n",
      "\n"
     ]
    }
   ],
   "source": [
    "#Should we transform the Location column?\n",
    "data.select('Location').show(5)\n",
    "\n",
    "#Naw, all different"
   ]
  },
  {
   "cell_type": "markdown",
   "metadata": {},
   "source": [
    "# Transform Features"
   ]
  },
  {
   "cell_type": "code",
   "execution_count": 17,
   "metadata": {},
   "outputs": [
    {
     "name": "stdout",
     "output_type": "stream",
     "text": [
      "root\n",
      " |-- Session_Connection_Time: double (nullable = true)\n",
      " |-- Bytes Transferred: double (nullable = true)\n",
      " |-- Kali_Trace_Used: integer (nullable = true)\n",
      " |-- Servers_Corrupted: double (nullable = true)\n",
      " |-- Pages_Corrupted: double (nullable = true)\n",
      " |-- Location: string (nullable = true)\n",
      " |-- WPM_Typing_Speed: double (nullable = true)\n",
      " |-- features: vector (nullable = true)\n",
      "\n"
     ]
    }
   ],
   "source": [
    "from pyspark.ml.feature import VectorAssembler\n",
    "features = ['Session_Connection_Time',\n",
    " 'Bytes Transferred',\n",
    " 'Kali_Trace_Used',\n",
    " 'Servers_Corrupted',\n",
    " 'Pages_Corrupted',\n",
    "# 'Location',\n",
    " 'WPM_Typing_Speed']\n",
    "assembler = VectorAssembler(inputCols=features, outputCol='features')\n",
    "final_data = assembler.transform(data)\n",
    "final_data.printSchema()"
   ]
  },
  {
   "cell_type": "code",
   "execution_count": 24,
   "metadata": {},
   "outputs": [
    {
     "name": "stdout",
     "output_type": "stream",
     "text": [
      "root\n",
      " |-- Session_Connection_Time: double (nullable = true)\n",
      " |-- Bytes Transferred: double (nullable = true)\n",
      " |-- Kali_Trace_Used: integer (nullable = true)\n",
      " |-- Servers_Corrupted: double (nullable = true)\n",
      " |-- Pages_Corrupted: double (nullable = true)\n",
      " |-- Location: string (nullable = true)\n",
      " |-- WPM_Typing_Speed: double (nullable = true)\n",
      " |-- features: vector (nullable = true)\n",
      " |-- scaledFeatures: vector (nullable = true)\n",
      "\n"
     ]
    }
   ],
   "source": [
    "from pyspark.ml.feature import StandardScaler\n",
    "scaler = StandardScaler(inputCol='features',\n",
    "                        outputCol='scaledFeatures')\n",
    "scaler_fitted = scaler.fit(final_data)\n",
    "final_data = scaler_fitted.transform(final_data)\n",
    "final_data.printSchema()\n"
   ]
  },
  {
   "cell_type": "markdown",
   "metadata": {},
   "source": [
    "# Create and Test Clusters"
   ]
  },
  {
   "cell_type": "code",
   "execution_count": 28,
   "metadata": {},
   "outputs": [],
   "source": [
    "from pyspark.ml.clustering import KMeans\n",
    "k_clf2 = KMeans(k=2, featuresCol='scaledFeatures')\n",
    "k_clf3 = KMeans(k=3, featuresCol='scaledFeatures')\n",
    "k_clf4 = KMeans(k=4, featuresCol='scaledFeatures')\n",
    "k_fitted2 = k_clf2.fit(final_data)\n",
    "k_fitted3 = k_clf3.fit(final_data)\n",
    "k_fitted4 = k_clf4.fit(final_data)\n"
   ]
  },
  {
   "cell_type": "code",
   "execution_count": 29,
   "metadata": {},
   "outputs": [
    {
     "name": "stdout",
     "output_type": "stream",
     "text": [
      "WSSE - 2 Clusters 601.7707512676716\n",
      "WSSE - 3 Clusters 434.1492898715845\n",
      "WSSE - 4 Clusters 267.1336116887891\n"
     ]
    }
   ],
   "source": [
    "print('WSSE - 2 Clusters', k_fitted2.computeCost(final_data))\n",
    "print('WSSE - 3 Clusters', k_fitted3.computeCost(final_data))\n",
    "print('WSSE - 4 Clusters', k_fitted4.computeCost(final_data))"
   ]
  },
  {
   "cell_type": "code",
   "execution_count": 127,
   "metadata": {},
   "outputs": [
    {
     "name": "stdout",
     "output_type": "stream",
     "text": [
      "+----------+-----+\n",
      "|prediction|count|\n",
      "+----------+-----+\n",
      "|         1|  167|\n",
      "|         0|  167|\n",
      "+----------+-----+\n",
      "\n",
      "+----------+-----+\n",
      "|prediction|count|\n",
      "+----------+-----+\n",
      "|         1|   84|\n",
      "|         2|   83|\n",
      "|         0|  167|\n",
      "+----------+-----+\n",
      "\n",
      "+----------+-----+\n",
      "|prediction|count|\n",
      "+----------+-----+\n",
      "|         1|   84|\n",
      "|         3|   79|\n",
      "|         2|   83|\n",
      "|         0|   88|\n",
      "+----------+-----+\n",
      "\n"
     ]
    }
   ],
   "source": [
    "k_fitted2.transform(final_data).select('prediction').count()\n",
    "k_fitted2.transform(final_data).select('prediction').head(334)[332][0]\n",
    "k_fitted2.transform(final_data).groupBy('prediction').count().show()\n",
    "k_fitted3.transform(final_data).groupBy('prediction').count().show()\n",
    "k_fitted4.transform(final_data).groupBy('prediction').count().show()"
   ]
  },
  {
   "cell_type": "code",
   "execution_count": null,
   "metadata": {},
   "outputs": [],
   "source": []
  },
  {
   "cell_type": "code",
   "execution_count": null,
   "metadata": {},
   "outputs": [],
   "source": []
  },
  {
   "cell_type": "code",
   "execution_count": null,
   "metadata": {},
   "outputs": [],
   "source": []
  },
  {
   "cell_type": "code",
   "execution_count": 119,
   "metadata": {},
   "outputs": [
    {
     "data": {
      "text/plain": [
       "0"
      ]
     },
     "execution_count": 119,
     "metadata": {},
     "output_type": "execute_result"
    }
   ],
   "source": [
    "count1\n",
    "#k_fitted2.transform(final_data).select('prediction').head().count()"
   ]
  },
  {
   "cell_type": "code",
   "execution_count": 118,
   "metadata": {},
   "outputs": [],
   "source": [
    "#Check how many attacks belong to each cluster\n",
    "i = 0\n",
    "count0 = 0\n",
    "count1 = 0\n",
    "for row in final_data:\n",
    "    prediction = k_fitted2.transform(final_data).select('prediction').head(10000)[i][0]\n",
    "    if (int(prediction) == 1):\n",
    "        count0 = count0 + 1\n",
    "    elif (int(prediction) == 0):\n",
    "        count1 = count1 + 2\n",
    "    i += 1"
   ]
  }
 ],
 "metadata": {
  "kernelspec": {
   "display_name": "Python 3",
   "language": "python",
   "name": "python3"
  },
  "language_info": {
   "codemirror_mode": {
    "name": "ipython",
    "version": 3
   },
   "file_extension": ".py",
   "mimetype": "text/x-python",
   "name": "python",
   "nbconvert_exporter": "python",
   "pygments_lexer": "ipython3",
   "version": "3.5.2"
  }
 },
 "nbformat": 4,
 "nbformat_minor": 2
}
