{
 "cells": [
  {
   "cell_type": "code",
   "execution_count": 3,
   "metadata": {},
   "outputs": [],
   "source": [
    "import findspark\n",
    "findspark.init('/home/ubuntu/spark-2.2.0-bin-hadoop2.7')\n",
    "\n",
    "from pyspark.sql import SparkSession\n",
    "spark = SparkSession.builder.appName('rec').getOrCreate()"
   ]
  },
  {
   "cell_type": "code",
   "execution_count": 7,
   "metadata": {},
   "outputs": [
    {
     "name": "stdout",
     "output_type": "stream",
     "text": [
      "root\n",
      " |-- movieId: integer (nullable = true)\n",
      " |-- rating: double (nullable = true)\n",
      " |-- userId: integer (nullable = true)\n",
      "\n"
     ]
    }
   ],
   "source": [
    "file = '/movielens_ratings.csv'\n",
    "folder = '/home/ubuntu/data/raw'\n",
    "data = spark.read.csv(folder+file, header=True, inferSchema=True)\n",
    "data.printSchema()"
   ]
  },
  {
   "cell_type": "code",
   "execution_count": 9,
   "metadata": {},
   "outputs": [
    {
     "name": "stdout",
     "output_type": "stream",
     "text": [
      "+-------+------+------+\n",
      "|movieId|rating|userId|\n",
      "+-------+------+------+\n",
      "|      2|   3.0|     0|\n",
      "|      3|   1.0|     0|\n",
      "|      5|   2.0|     0|\n",
      "|      9|   4.0|     0|\n",
      "|     11|   1.0|     0|\n",
      "+-------+------+------+\n",
      "only showing top 5 rows\n",
      "\n"
     ]
    }
   ],
   "source": [
    "#Person 0 gave movie 2, a 3.0 rating\n",
    "#userID 0 gave movie 3 a rating of 1.0\n",
    "data.show(5)"
   ]
  },
  {
   "cell_type": "code",
   "execution_count": 12,
   "metadata": {},
   "outputs": [
    {
     "name": "stdout",
     "output_type": "stream",
     "text": [
      "+-------+------------------+------------------+------------------+\n",
      "|summary|           movieId|            rating|            userId|\n",
      "+-------+------------------+------------------+------------------+\n",
      "|  count|              1501|              1501|              1501|\n",
      "|   mean| 49.40572951365756|1.7741505662891406|14.383744170552964|\n",
      "| stddev|28.937034065088994| 1.187276166124803| 8.591040424293272|\n",
      "|    min|                 0|               1.0|                 0|\n",
      "|    max|                99|               5.0|                29|\n",
      "+-------+------------------+------------------+------------------+\n",
      "\n"
     ]
    },
    {
     "data": {
      "text/plain": [
       "['movieId', 'rating', 'userId']"
      ]
     },
     "execution_count": 12,
     "metadata": {},
     "output_type": "execute_result"
    }
   ],
   "source": [
    "data.describe().show()\n",
    "data.columns"
   ]
  },
  {
   "cell_type": "code",
   "execution_count": 13,
   "metadata": {},
   "outputs": [
    {
     "data": {
      "text/html": [
       "<div>\n",
       "<style>\n",
       "    .dataframe thead tr:only-child th {\n",
       "        text-align: right;\n",
       "    }\n",
       "\n",
       "    .dataframe thead th {\n",
       "        text-align: left;\n",
       "    }\n",
       "\n",
       "    .dataframe tbody tr th {\n",
       "        vertical-align: top;\n",
       "    }\n",
       "</style>\n",
       "<table border=\"1\" class=\"dataframe\">\n",
       "  <thead>\n",
       "    <tr style=\"text-align: right;\">\n",
       "      <th></th>\n",
       "      <th>movieId</th>\n",
       "      <th>rating</th>\n",
       "      <th>userId</th>\n",
       "    </tr>\n",
       "  </thead>\n",
       "  <tbody>\n",
       "    <tr>\n",
       "      <th>movieId</th>\n",
       "      <td>1</td>\n",
       "      <td>0.0365686</td>\n",
       "      <td>0.00326711</td>\n",
       "    </tr>\n",
       "    <tr>\n",
       "      <th>rating</th>\n",
       "      <td>0.0365686</td>\n",
       "      <td>1</td>\n",
       "      <td>0.0564114</td>\n",
       "    </tr>\n",
       "    <tr>\n",
       "      <th>userId</th>\n",
       "      <td>0.00326711</td>\n",
       "      <td>0.0564114</td>\n",
       "      <td>1</td>\n",
       "    </tr>\n",
       "  </tbody>\n",
       "</table>\n",
       "</div>"
      ],
      "text/plain": [
       "            movieId     rating      userId\n",
       "movieId           1  0.0365686  0.00326711\n",
       "rating    0.0365686          1   0.0564114\n",
       "userId   0.00326711  0.0564114           1"
      ]
     },
     "execution_count": 13,
     "metadata": {},
     "output_type": "execute_result"
    }
   ],
   "source": [
    "import pandas as pd\n",
    "import numpy as np\n",
    "#Feature Correlations\n",
    "\n",
    "from pyspark.sql.functions import corr, covar_pop\n",
    "important_columns = ['movieId', 'rating', 'userId']\n",
    "\n",
    "corr_df = pd.DataFrame(columns=important_columns, index=important_columns)\n",
    "for feature in important_columns:\n",
    "    for feature2 in important_columns:\n",
    "        #new_data.select(corr(feature,feature2)).show()\n",
    "        corr_df[feature2][feature] = data.select(corr(feature,feature2)).head()[0]\n",
    "corr_df.head()\n"
   ]
  },
  {
   "cell_type": "code",
   "execution_count": null,
   "metadata": {},
   "outputs": [],
   "source": []
  },
  {
   "cell_type": "markdown",
   "metadata": {},
   "source": [
    "# Split Data"
   ]
  },
  {
   "cell_type": "code",
   "execution_count": 17,
   "metadata": {},
   "outputs": [
    {
     "name": "stdout",
     "output_type": "stream",
     "text": [
      "+-------+------------------+------------------+-----------------+\n",
      "|summary|           movieId|            rating|           userId|\n",
      "+-------+------------------+------------------+-----------------+\n",
      "|  count|              1188|              1188|             1188|\n",
      "|   mean| 49.34848484848485|1.7516835016835017|14.51010101010101|\n",
      "| stddev|29.147328279052385|1.1587354148298872|8.611471297083183|\n",
      "|    min|                 0|               1.0|                0|\n",
      "|    max|                99|               5.0|               29|\n",
      "+-------+------------------+------------------+-----------------+\n",
      "\n"
     ]
    }
   ],
   "source": [
    "data_train, data_test = data.randomSplit([0.8,0.2])\n",
    "data_train.describe().show()"
   ]
  },
  {
   "cell_type": "markdown",
   "metadata": {},
   "source": [
    "# Make ALS Model"
   ]
  },
  {
   "cell_type": "code",
   "execution_count": 33,
   "metadata": {},
   "outputs": [],
   "source": [
    "from pyspark.ml.recommendation import ALS"
   ]
  },
  {
   "cell_type": "code",
   "execution_count": 34,
   "metadata": {},
   "outputs": [],
   "source": [
    "als = ALS(maxIter=5, regParam=0.01, \n",
    "          userCol='userId', \n",
    "          itemCol='movieId', \n",
    "          ratingCol='rating')\n",
    "als_trained = als.fit(data_train)\n"
   ]
  },
  {
   "cell_type": "markdown",
   "metadata": {},
   "source": [
    "# Evaluate Model"
   ]
  },
  {
   "cell_type": "code",
   "execution_count": 35,
   "metadata": {},
   "outputs": [
    {
     "name": "stdout",
     "output_type": "stream",
     "text": [
      "+-------+------+------+-----------+\n",
      "|movieId|rating|userId| prediction|\n",
      "+-------+------+------+-----------+\n",
      "|     31|   1.0|    27|   0.825664|\n",
      "|     31|   4.0|    12|  2.1081233|\n",
      "|     31|   1.0|    13|  1.6430783|\n",
      "|     31|   1.0|     4|  1.2927738|\n",
      "|     31|   3.0|     8| -0.3394109|\n",
      "|     31|   3.0|     7|  1.8622601|\n",
      "|     31|   1.0|     0| 0.27617615|\n",
      "|     85|   3.0|     6| 0.20896734|\n",
      "|     85|   1.0|     5|  2.5142992|\n",
      "|     85|   1.0|    15| 0.60128534|\n",
      "|     85|   5.0|     8| -1.5788807|\n",
      "|     85|   1.0|    23|  -1.662189|\n",
      "|     85|   4.0|     7| 0.22075252|\n",
      "|     85|   3.0|    21| 0.66022676|\n",
      "|     65|   1.0|    19|  1.2252744|\n",
      "|     65|   1.0|     4| 0.13463509|\n",
      "|     53|   1.0|    12|  1.1106814|\n",
      "|     53|   3.0|    13| -0.5959698|\n",
      "|     53|   1.0|    25|-0.21666104|\n",
      "|     53|   5.0|    21|  2.6518016|\n",
      "+-------+------+------+-----------+\n",
      "only showing top 20 rows\n",
      "\n"
     ]
    }
   ],
   "source": [
    "predictions = als_trained.transform(data_test)\n",
    "predictions.show()\n",
    "#User 27 gave movie 31 a 1.0 score (0.8 prediction)\n",
    "#User 12 gave movie 31 a 4.0 score (2.1 prediction)\n",
    "#Movie 85 sucks"
   ]
  },
  {
   "cell_type": "code",
   "execution_count": 36,
   "metadata": {},
   "outputs": [
    {
     "name": "stdout",
     "output_type": "stream",
     "text": [
      "RMSE:  1.7078394179966152\n",
      "+-------+------------------+------------------+------------------+------------------+\n",
      "|summary|           movieId|            rating|            userId|        prediction|\n",
      "+-------+------------------+------------------+------------------+------------------+\n",
      "|  count|               313|               313|               313|               313|\n",
      "|   mean| 49.62300319488818|1.8594249201277955|13.904153354632587|1.2495884822708325|\n",
      "| stddev|28.169218195974587|1.2882788862416283| 8.509633417456003|1.2405238763651232|\n",
      "|    min|                 0|               1.0|                 0|        -1.7079314|\n",
      "|    max|                98|               5.0|                29|          4.296867|\n",
      "+-------+------------------+------------------+------------------+------------------+\n",
      "\n"
     ]
    }
   ],
   "source": [
    "#Create regression evaluation\n",
    "from pyspark.ml.evaluation import RegressionEvaluator\n",
    "evaluator = RegressionEvaluator(metricName='rmse', labelCol='rating', \n",
    "                                predictionCol='prediction')\n",
    "rmse = evaluator.evaluate(predictions)\n",
    "print('RMSE: ', rmse)\n",
    "predictions.describe().show()\n",
    "\n",
    "#RMSE of 1.7 on a 1-5 scale sucks"
   ]
  },
  {
   "cell_type": "code",
   "execution_count": 37,
   "metadata": {},
   "outputs": [],
   "source": [
    "#EValuation\n",
    "from pyspark.ml.evaluation import RegressionEvaluator\n"
   ]
  },
  {
   "cell_type": "markdown",
   "metadata": {},
   "source": [
    "# Predictions for Specific Users"
   ]
  },
  {
   "cell_type": "code",
   "execution_count": 38,
   "metadata": {},
   "outputs": [
    {
     "name": "stdout",
     "output_type": "stream",
     "text": [
      "+-------+------+\n",
      "|movieId|userId|\n",
      "+-------+------+\n",
      "|      0|    11|\n",
      "|     23|    11|\n",
      "|     37|    11|\n",
      "|     40|    11|\n",
      "|     50|    11|\n",
      "|     59|    11|\n",
      "|     61|    11|\n",
      "|     62|    11|\n",
      "|     66|    11|\n",
      "|     71|    11|\n",
      "|     76|    11|\n",
      "|     77|    11|\n",
      "|     78|    11|\n",
      "|     81|    11|\n",
      "|     90|    11|\n",
      "+-------+------+\n",
      "\n"
     ]
    }
   ],
   "source": [
    "single_user = data_test.filter(data_test['userId'] == 11).select(['movieId','userId'])\n",
    "single_user.show()"
   ]
  },
  {
   "cell_type": "code",
   "execution_count": 41,
   "metadata": {},
   "outputs": [
    {
     "name": "stdout",
     "output_type": "stream",
     "text": [
      "+-------+------+------------+\n",
      "|movieId|userId|  prediction|\n",
      "+-------+------+------------+\n",
      "|     76|    11|    4.120113|\n",
      "|     50|    11|   2.8945935|\n",
      "|     66|    11|    2.474843|\n",
      "|     37|    11|   1.6769702|\n",
      "|     81|    11|    1.585211|\n",
      "|     23|    11|   1.4453884|\n",
      "|     62|    11|   1.3736115|\n",
      "|     90|    11|   1.1445829|\n",
      "|     77|    11|   0.9150108|\n",
      "|      0|    11|   0.5708736|\n",
      "|     78|    11|   0.5675636|\n",
      "|     61|    11|  0.51073366|\n",
      "|     71|    11|    0.503191|\n",
      "|     59|    11|-0.012784004|\n",
      "|     40|    11|  -0.8294847|\n",
      "+-------+------+------------+\n",
      "\n"
     ]
    }
   ],
   "source": [
    "#What movies should we recommend to this dude 11?\n",
    "recommendations = als_trained.transform(single_user)\n",
    "recommendations.orderBy('prediction',ascending=False).show()"
   ]
  },
  {
   "cell_type": "code",
   "execution_count": null,
   "metadata": {},
   "outputs": [],
   "source": []
  },
  {
   "cell_type": "code",
   "execution_count": null,
   "metadata": {},
   "outputs": [],
   "source": []
  }
 ],
 "metadata": {
  "kernelspec": {
   "display_name": "Python 3",
   "language": "python",
   "name": "python3"
  },
  "language_info": {
   "codemirror_mode": {
    "name": "ipython",
    "version": 3
   },
   "file_extension": ".py",
   "mimetype": "text/x-python",
   "name": "python",
   "nbconvert_exporter": "python",
   "pygments_lexer": "ipython3",
   "version": "3.5.2"
  }
 },
 "nbformat": 4,
 "nbformat_minor": 2
}
