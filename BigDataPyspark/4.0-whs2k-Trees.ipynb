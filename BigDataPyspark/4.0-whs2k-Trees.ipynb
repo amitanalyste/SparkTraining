{
 "cells": [
  {
   "cell_type": "code",
   "execution_count": 1,
   "metadata": {},
   "outputs": [],
   "source": [
    "import findspark\n",
    "findspark.init('/home/ubuntu/spark-2.2.0-bin-hadoop2.7')\n",
    "\n",
    "from pyspark.sql import SparkSession\n",
    "spark = SparkSession.builder.appName('dTrees').getOrCreate()"
   ]
  },
  {
   "cell_type": "code",
   "execution_count": 2,
   "metadata": {},
   "outputs": [],
   "source": [
    "from pyspark.ml import Pipeline\n",
    "from pyspark.ml.classification import (RandomForestClassifier, \n",
    "                                       GBTClassifier, \n",
    "                                       DecisionTreeClassifier)\n",
    "from pyspark.ml.regression import (RandomForestRegressor,\n",
    "                                   GBTRegressor, \n",
    "                                   DecisionTreeRegressor)\n"
   ]
  },
  {
   "cell_type": "code",
   "execution_count": 4,
   "metadata": {},
   "outputs": [],
   "source": [
    "file_name = '/sample_libsvm_data.txt'\n",
    "data_folder = data_folder = '/home/ubuntu/data/raw'\n",
    "data = spark.read.format('libsvm').load(data_folder+file_name)"
   ]
  },
  {
   "cell_type": "code",
   "execution_count": 6,
   "metadata": {},
   "outputs": [
    {
     "name": "stdout",
     "output_type": "stream",
     "text": [
      "+-----+--------------------+\n",
      "|label|            features|\n",
      "+-----+--------------------+\n",
      "|  0.0|(692,[127,128,129...|\n",
      "|  1.0|(692,[158,159,160...|\n",
      "|  1.0|(692,[124,125,126...|\n",
      "|  1.0|(692,[152,153,154...|\n",
      "|  1.0|(692,[151,152,153...|\n",
      "+-----+--------------------+\n",
      "only showing top 5 rows\n",
      "\n"
     ]
    }
   ],
   "source": [
    "data.show(5)"
   ]
  },
  {
   "cell_type": "code",
   "execution_count": 7,
   "metadata": {},
   "outputs": [],
   "source": [
    "train_data, test_data = data.randomSplit([0.7,0.3])"
   ]
  },
  {
   "cell_type": "code",
   "execution_count": 16,
   "metadata": {},
   "outputs": [],
   "source": [
    "#Initilize Model\n",
    "dt_clf = DecisionTreeClassifier(featuresCol='features',\n",
    "                                labelCol='label',maxDepth=2)\n",
    "rf_clf = RandomForestClassifier(featuresCol='features',labelCol='label',\n",
    "                                numTrees=100)\n",
    "gbt_clf = GBTClassifier()"
   ]
  },
  {
   "cell_type": "code",
   "execution_count": 19,
   "metadata": {},
   "outputs": [],
   "source": [
    "#Fit Models\n",
    "dt_model = dt_clf.fit(train_data)\n",
    "rf_model = rf_clf.fit(train_data)\n",
    "gbt_model = gbt_clf.fit(train_data)"
   ]
  },
  {
   "cell_type": "code",
   "execution_count": 27,
   "metadata": {},
   "outputs": [],
   "source": [
    "#Evaluation with Test Data\n",
    "dt_preds = dt_model.transform(test_data)\n",
    "rf_preds = rf_model.transform(test_data)\n",
    "gbt_preds = gbt_model.transform(test_data)"
   ]
  },
  {
   "cell_type": "code",
   "execution_count": 28,
   "metadata": {},
   "outputs": [
    {
     "name": "stdout",
     "output_type": "stream",
     "text": [
      "+-----+--------------------+-------------+-----------+----------+\n",
      "|label|            features|rawPrediction|probability|prediction|\n",
      "+-----+--------------------+-------------+-----------+----------+\n",
      "|  0.0|(692,[98,99,100,1...|    [0.0,1.0]|  [0.0,1.0]|       1.0|\n",
      "|  0.0|(692,[100,101,102...|   [23.0,0.0]|  [1.0,0.0]|       0.0|\n",
      "|  0.0|(692,[123,124,125...|   [23.0,0.0]|  [1.0,0.0]|       0.0|\n",
      "+-----+--------------------+-------------+-----------+----------+\n",
      "only showing top 3 rows\n",
      "\n"
     ]
    }
   ],
   "source": [
    "dt_preds.show(3)"
   ]
  },
  {
   "cell_type": "code",
   "execution_count": 29,
   "metadata": {},
   "outputs": [],
   "source": [
    "#Evaluations (you can always use Multi Class for )\n",
    "from pyspark.ml.evaluation import MulticlassClassificationEvaluator"
   ]
  },
  {
   "cell_type": "code",
   "execution_count": 30,
   "metadata": {},
   "outputs": [],
   "source": [
    "#Create a multiclass cliassifier to accuracy\n",
    "acc_eval = MulticlassClassificationEvaluator(metricName='accuracy')"
   ]
  },
  {
   "cell_type": "code",
   "execution_count": 38,
   "metadata": {},
   "outputs": [
    {
     "name": "stdout",
     "output_type": "stream",
     "text": [
      "DT Accuracy 0.9090909090909091\n",
      "RF Accuracy 1.0\n",
      "GBT Accuracy 0.9090909090909091\n"
     ]
    }
   ],
   "source": [
    "print('DT Accuracy', acc_eval.evaluate(dt_preds))\n",
    "\n",
    "print('RF Accuracy', acc_eval.evaluate(rf_preds))\n",
    "\n",
    "print('GBT Accuracy', acc_eval.evaluate(gbt_preds))"
   ]
  },
  {
   "cell_type": "code",
   "execution_count": 39,
   "metadata": {},
   "outputs": [
    {
     "data": {
      "text/plain": [
       "SparseVector(692, {120: 0.0006, 121: 0.0006, 131: 0.0005, 154: 0.0008, 174: 0.0018, 177: 0.0011, 182: 0.0006, 184: 0.0016, 189: 0.0017, 208: 0.0015, 215: 0.0009, 216: 0.0009, 235: 0.0075, 236: 0.0004, 243: 0.0065, 244: 0.0092, 261: 0.0007, 262: 0.0075, 271: 0.015, 272: 0.0134, 287: 0.0066, 291: 0.0008, 295: 0.0094, 299: 0.0013, 300: 0.0479, 301: 0.0108, 313: 0.0005, 314: 0.003, 317: 0.0077, 318: 0.0038, 319: 0.0006, 322: 0.0012, 323: 0.0087, 327: 0.0071, 329: 0.0033, 330: 0.007, 331: 0.0046, 345: 0.0085, 347: 0.0007, 350: 0.0208, 351: 0.0302, 352: 0.0006, 353: 0.002, 354: 0.0014, 356: 0.0255, 359: 0.0043, 369: 0.0028, 371: 0.0004, 372: 0.0062, 373: 0.0082, 378: 0.0506, 379: 0.0007, 380: 0.0016, 385: 0.0174, 398: 0.004, 400: 0.0084, 401: 0.0062, 402: 0.0021, 405: 0.0263, 406: 0.0324, 407: 0.0232, 409: 0.0006, 410: 0.0011, 411: 0.0003, 412: 0.0006, 413: 0.0068, 414: 0.0053, 415: 0.0035, 425: 0.0008, 426: 0.0007, 428: 0.0132, 431: 0.0009, 432: 0.0007, 433: 0.048, 434: 0.0087, 435: 0.019, 440: 0.0019, 443: 0.0012, 454: 0.001, 455: 0.006, 456: 0.0106, 457: 0.0085, 461: 0.009, 462: 0.0086, 463: 0.0118, 468: 0.0103, 469: 0.0087, 471: 0.0007, 483: 0.0344, 484: 0.0094, 485: 0.0014, 489: 0.0428, 490: 0.0251, 497: 0.0026, 511: 0.0178, 512: 0.0316, 513: 0.0107, 516: 0.0067, 517: 0.0294, 518: 0.0083, 519: 0.0008, 527: 0.0013, 539: 0.0156, 540: 0.0094, 543: 0.0014, 545: 0.0006, 546: 0.0007, 550: 0.0064, 555: 0.0009, 566: 0.0012, 568: 0.0246, 569: 0.0001, 578: 0.0063, 580: 0.0013, 597: 0.0082, 599: 0.0021, 604: 0.0089, 611: 0.0006, 626: 0.0007, 627: 0.0038, 628: 0.0017, 629: 0.0023, 631: 0.0006, 632: 0.0073, 633: 0.0002, 651: 0.0011, 682: 0.0005, 685: 0.0011})"
      ]
     },
     "execution_count": 39,
     "metadata": {},
     "output_type": "execute_result"
    }
   ],
   "source": [
    "#Feature Importance\n",
    "rf_model.featureImportances"
   ]
  },
  {
   "cell_type": "code",
   "execution_count": null,
   "metadata": {},
   "outputs": [],
   "source": []
  }
 ],
 "metadata": {
  "kernelspec": {
   "display_name": "Python 3",
   "language": "python",
   "name": "python3"
  },
  "language_info": {
   "codemirror_mode": {
    "name": "ipython",
    "version": 3
   },
   "file_extension": ".py",
   "mimetype": "text/x-python",
   "name": "python",
   "nbconvert_exporter": "python",
   "pygments_lexer": "ipython3",
   "version": "3.5.2"
  }
 },
 "nbformat": 4,
 "nbformat_minor": 2
}
